{
  "nbformat": 4,
  "nbformat_minor": 0,
  "metadata": {
    "colab": {
      "name": "Python_1.ipynb",
      "provenance": [],
      "authorship_tag": "ABX9TyM94M8WjRPJP7zWKJ7bbSUn",
      "include_colab_link": true
    },
    "kernelspec": {
      "name": "python3",
      "display_name": "Python 3"
    },
    "language_info": {
      "name": "python"
    }
  },
  "cells": [
    {
      "cell_type": "markdown",
      "metadata": {
        "id": "view-in-github",
        "colab_type": "text"
      },
      "source": [
        "<a href=\"https://colab.research.google.com/github/yejij19/-/blob/main/Python_1.ipynb\" target=\"_parent\"><img src=\"https://colab.research.google.com/assets/colab-badge.svg\" alt=\"Open In Colab\"/></a>"
      ]
    },
    {
      "cell_type": "code",
      "execution_count": 1,
      "metadata": {
        "colab": {
          "base_uri": "https://localhost:8080/"
        },
        "id": "d0ytxujQyVC3",
        "outputId": "6051cf9d-56fc-4b2e-aa63-c091086595d2"
      },
      "outputs": [
        {
          "output_type": "stream",
          "name": "stdout",
          "text": [
            "Hellow World\n"
          ]
        }
      ],
      "source": [
        "print(\"Hellow World\")"
      ]
    },
    {
      "cell_type": "code",
      "source": [
        "print('Hellow World')"
      ],
      "metadata": {
        "colab": {
          "base_uri": "https://localhost:8080/"
        },
        "id": "-3WP1tF4y3ql",
        "outputId": "ef64953e-1f40-4370-e5bc-db2a998189ca"
      },
      "execution_count": 2,
      "outputs": [
        {
          "output_type": "stream",
          "name": "stdout",
          "text": [
            "Hellow World\n"
          ]
        }
      ]
    },
    {
      "cell_type": "code",
      "source": [
        "print(1+2)"
      ],
      "metadata": {
        "colab": {
          "base_uri": "https://localhost:8080/"
        },
        "id": "2Ue7yrfBzA0I",
        "outputId": "a4a53a72-2dc6-437b-db81-04663d64b65f"
      },
      "execution_count": 3,
      "outputs": [
        {
          "output_type": "stream",
          "name": "stdout",
          "text": [
            "3\n"
          ]
        }
      ]
    },
    {
      "cell_type": "code",
      "source": [
        "print(2*3)"
      ],
      "metadata": {
        "colab": {
          "base_uri": "https://localhost:8080/"
        },
        "id": "sNtgOErazGM3",
        "outputId": "2ae50838-2015-4df6-85b8-63f932c6532d"
      },
      "execution_count": 4,
      "outputs": [
        {
          "output_type": "stream",
          "name": "stdout",
          "text": [
            "6\n"
          ]
        }
      ]
    },
    {
      "cell_type": "code",
      "source": [
        "print(True)"
      ],
      "metadata": {
        "colab": {
          "base_uri": "https://localhost:8080/"
        },
        "id": "QglUbIL20eOh",
        "outputId": "9ab60799-0aca-4c03-a31f-49f70273d715"
      },
      "execution_count": 5,
      "outputs": [
        {
          "output_type": "stream",
          "name": "stdout",
          "text": [
            "True\n"
          ]
        }
      ]
    },
    {
      "cell_type": "code",
      "source": [
        "print(False)"
      ],
      "metadata": {
        "colab": {
          "base_uri": "https://localhost:8080/"
        },
        "id": "OVbsXIbO0lC2",
        "outputId": "51138049-1e7b-4d0b-bf8a-ed8d8565fbbf"
      },
      "execution_count": 7,
      "outputs": [
        {
          "output_type": "stream",
          "name": "stdout",
          "text": [
            "False\n"
          ]
        }
      ]
    },
    {
      "cell_type": "code",
      "source": [
        "a=3; b=4; c=a+b; print(c); print(a); print(b)"
      ],
      "metadata": {
        "colab": {
          "base_uri": "https://localhost:8080/"
        },
        "id": "HSrG9GO20w_L",
        "outputId": "c51498b8-008b-4704-ad03-83e54bcf2c60"
      },
      "execution_count": 10,
      "outputs": [
        {
          "output_type": "stream",
          "name": "stdout",
          "text": [
            "7\n",
            "3\n",
            "4\n"
          ]
        }
      ]
    },
    {
      "cell_type": "code",
      "source": [
        "a=\"안녕하세요.\";\n",
        "b=\"반갑습니다.\";\n",
        "c=a+b;\n",
        "print(c)"
      ],
      "metadata": {
        "colab": {
          "base_uri": "https://localhost:8080/"
        },
        "id": "94YS5iaC1XQn",
        "outputId": "4f5ad19b-0caf-4b38-849b-55bc36ecc852"
      },
      "execution_count": 12,
      "outputs": [
        {
          "output_type": "stream",
          "name": "stdout",
          "text": [
            "안녕하세요.반갑습니다.\n"
          ]
        }
      ]
    },
    {
      "cell_type": "code",
      "source": [
        "a=\"안녕하세요.\";\n",
        "b=a*10\n",
        "print(b)"
      ],
      "metadata": {
        "colab": {
          "base_uri": "https://localhost:8080/"
        },
        "id": "CNf94_O81tJA",
        "outputId": "17546e4a-fd23-47d0-c5c8-1b749af389db"
      },
      "execution_count": 14,
      "outputs": [
        {
          "output_type": "stream",
          "name": "stdout",
          "text": [
            "안녕하세요.안녕하세요.안녕하세요.안녕하세요.안녕하세요.안녕하세요.안녕하세요.안녕하세요.안녕하세요.안녕하세요.\n"
          ]
        }
      ]
    },
    {
      "cell_type": "code",
      "source": [
        "print(\"###############\")\n",
        "print(\"#\"*15)"
      ],
      "metadata": {
        "colab": {
          "base_uri": "https://localhost:8080/"
        },
        "id": "BA4pSe421_aH",
        "outputId": "fac8a82c-db21-4c9f-a61c-18ab9b1d4cc6"
      },
      "execution_count": 17,
      "outputs": [
        {
          "output_type": "stream",
          "name": "stdout",
          "text": [
            "###############\n",
            "###############\n"
          ]
        }
      ]
    },
    {
      "cell_type": "markdown",
      "source": [
        "아버지와 어머니 그리고 삼촌에게 감사한 마음을 전하고 싶습니다.\n",
        "아버지에게 10만원, 어머니에게는 15만원, 삼촌에게는 \"감사합니다\"\n",
        "변수:_Father, _Mother, _Uncle"
      ],
      "metadata": {
        "id": "zxS_sb0E2W1f"
      }
    },
    {
      "cell_type": "code",
      "source": [
        "_Father=\"100,000\"\n",
        "_Mother=\"150,000\"\n",
        "_Uncle=\"감사합니다\"\n",
        "Thanks=_Father, _Mother, _Uncle\n",
        "print(\"아버지=\", _Father,\"원\")\n",
        "print(\"어머니=\", _Mother,\"원\")\n",
        "print(\"삼촌=\", _Uncle)"
      ],
      "metadata": {
        "colab": {
          "base_uri": "https://localhost:8080/"
        },
        "id": "4wC-rKMd3twp",
        "outputId": "3b4b6665-b976-4060-f080-54b86c6ecc06"
      },
      "execution_count": 21,
      "outputs": [
        {
          "output_type": "stream",
          "name": "stdout",
          "text": [
            "아버지= 100,000 원\n",
            "어머니= 150,000 원\n",
            "삼촌= 감사합니다\n"
          ]
        }
      ]
    },
    {
      "cell_type": "markdown",
      "source": [
        "변수의 규칙: 문자 또는 _로 시작(Father, father, _father), 문자, 숫자, _구성(Father69, father55, father_56), 공백은 절대 안된다. 안쓰는 것이 좋다. 특수문자 절대 안된다."
      ],
      "metadata": {
        "id": "Hxx9EN1Q5Nv0"
      }
    },
    {
      "cell_type": "markdown",
      "source": [
        "FATHER, father, MOTHER, mother, _Father, _father, keyword(True, False, for,while, if, continue, break, class...)"
      ],
      "metadata": {
        "id": "d_Yj4z8N6jzU"
      }
    },
    {
      "cell_type": "markdown",
      "source": [
        "숫자자료형= 숫자, 문자자료형= 모든 문자들..."
      ],
      "metadata": {
        "id": "rVteRPAD7MQz"
      }
    },
    {
      "cell_type": "code",
      "source": [
        "a=2\n",
        "b=\"2\"\n",
        "c=a+int(b)\n",
        "print(c)"
      ],
      "metadata": {
        "colab": {
          "base_uri": "https://localhost:8080/"
        },
        "id": "l3yNyxqz7dkd",
        "outputId": "49c84d19-cbe3-4243-b7a1-0a416530642f"
      },
      "execution_count": 23,
      "outputs": [
        {
          "output_type": "stream",
          "name": "stdout",
          "text": [
            "4\n"
          ]
        }
      ]
    },
    {
      "cell_type": "markdown",
      "source": [
        "형변환: 정수형을 변환할때 int(), 실수형으로 변환하고자 할때 float(), 문자자료형으로 변환하고자 할때 str(), int(float(\"2,5\"))"
      ],
      "metadata": {
        "id": "Kgy03AM07z_C"
      }
    },
    {
      "cell_type": "markdown",
      "source": [
        "산술연산자: + 더하기(print(4+3), - 빼기(print(2-1), * 곱하기(print(5*4), / 나누기(print4/2), % 나머지 print(5%2), //몫 print(6//2), **거듭제곱\n",
        "print(4**2)"
      ],
      "metadata": {
        "id": "4Bq5Okhh7vAz"
      }
    },
    {
      "cell_type": "code",
      "source": [
        ""
      ],
      "metadata": {
        "id": "cmuPfmXm7KYz"
      },
      "execution_count": null,
      "outputs": []
    },
    {
      "cell_type": "code",
      "source": [
        ""
      ],
      "metadata": {
        "id": "U249Y4un6fyg"
      },
      "execution_count": null,
      "outputs": []
    },
    {
      "cell_type": "code",
      "source": [
        ""
      ],
      "metadata": {
        "id": "B5OH5_uC3T4r"
      },
      "execution_count": null,
      "outputs": []
    }
  ]
}